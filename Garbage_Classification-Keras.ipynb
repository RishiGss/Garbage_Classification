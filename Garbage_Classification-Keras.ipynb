{
 "cells": [
  {
   "cell_type": "code",
   "execution_count": null,
   "metadata": {
    "_cell_guid": "b1076dfc-b9ad-4769-8c92-a6c4dae69d19",
    "_uuid": "8f2839f25d086af736a60e9eeb907d3b93b6e0e5"
   },
   "outputs": [],
   "source": [
    "# import the necessary packages\n",
    "import numpy as np\n",
    "import matplotlib.pyplot as plt\n",
    "from keras.preprocessing.image import ImageDataGenerator, load_img, img_to_array, array_to_img\n",
    "from keras.layers import Conv2D, Flatten, MaxPooling2D, Dense\n",
    "from keras.models import Sequential\n",
    "import tensorflow as tf\n",
    "\n",
    "import glob, os, random, math\n",
    "import numpy as np"
   ]
  },
  {
   "cell_type": "code",
   "execution_count": null,
   "metadata": {
    "_cell_guid": "79c7e3d0-c299-4dcb-8224-4455121ee9b0",
    "_uuid": "d629ff2d2480ee46fbb7e2d37f6b5fab8052498a"
   },
   "outputs": [],
   "source": [
    "# training, validation and testing directories\n",
    "\n",
    "train_dir='./train_valid_test/train/'\n",
    "valid_dir='./train_valid_test/valid/'\n",
    "test_dir='./train_valid_test/test/'\n",
    "\n",
    "train_list=glob.glob(os.path.join(train_dir,'*/*.jpg'))\n",
    "valid_list = glob.glob(os.path.join(valid_dir, '*/*.jpg'))\n",
    "test_list = glob.glob(os.path.join(test_dir, '*/*.jpg'))\n",
    "\n",
    "print(\"No of images in \")\n",
    "print(\"\\tTraining set : \",len(train_list))\n",
    "print(\"\\tValidation set : \",len(valid_list))\n",
    "print(\"\\tTest set : \",len(test_list))\n",
    "print(\"\\nTotal : \",len(train_list)+len(valid_list)+len(test_list))"
   ]
  },
  {
   "cell_type": "code",
   "execution_count": null,
   "metadata": {},
   "outputs": [],
   "source": [
    "# data visualization\n",
    "fig=plt.figure(figsize=(8, 8))\n",
    "columns = 4\n",
    "rows = 4\n",
    "for i in range(1, columns*rows +1):\n",
    "    img = load_img(random.choice(train_list))\n",
    "    fig.add_subplot(rows, columns, i)\n",
    "    plt.tight_layout(pad=2.0)\n",
    "    plt.imshow(img)\n",
    "plt.show()"
   ]
  },
  {
   "cell_type": "code",
   "execution_count": null,
   "metadata": {
    "_uuid": "cd14ef724d7ca97dcff84a3e4f27ccff2e1682bf"
   },
   "outputs": [],
   "source": [
    "# data generators\n",
    "train_datagen = ImageDataGenerator(\n",
    "    rescale=1./255,\n",
    "    shear_range=0.1,\n",
    "    zoom_range=0.1,\n",
    "    width_shift_range=0.1,\n",
    "    height_shift_range=0.1,\n",
    "    horizontal_flip=True,\n",
    "    vertical_flip=True\n",
    ")\n",
    "\n",
    "test_datagen = ImageDataGenerator(\n",
    "    rescale=1./255\n",
    ")\n",
    "\n",
    "print(\"Train : \",end=\"\")\n",
    "train_generator = train_datagen.flow_from_directory(\n",
    "    train_dir,\n",
    "    target_size=(300, 300),\n",
    "    batch_size=32,\n",
    "    class_mode='categorical',\n",
    "    shuffle=True,\n",
    "    seed=0\n",
    ")\n",
    "\n",
    "print(\"Valid : \",end=\"\")\n",
    "validation_generator = train_datagen.flow_from_directory(\n",
    "    valid_dir,\n",
    "    target_size=(300, 300),\n",
    "    batch_size=32,\n",
    "    class_mode='categorical',\n",
    "    shuffle=False,\n",
    "    seed=0\n",
    ")\n",
    "\n",
    "print(\"Test : \",end=\"\")\n",
    "test_generator = test_datagen.flow_from_directory(\n",
    "    test_dir,\n",
    "    target_size=(300,300),\n",
    "    batch_size=24,\n",
    "    class_mode='categorical',\n",
    "    seed=0,\n",
    "    shuffle=True\n",
    ")\n",
    "\n",
    "labels = (train_generator.class_indices)\n",
    "labels = dict((v,k) for k,v in labels.items())\n",
    "\n",
    "print(\"\\nClasses\",labels)"
   ]
  },
  {
   "cell_type": "code",
   "execution_count": null,
   "metadata": {
    "_uuid": "3d5f8026cc4e753beab1fad3aea8301faa85707b"
   },
   "outputs": [],
   "source": [
    "# network\n",
    "model = Sequential([\n",
    "    Conv2D(filters=32, kernel_size=3, padding='same', activation='relu', input_shape=(300, 300, 3)),\n",
    "    MaxPooling2D(pool_size=2),\n",
    "\n",
    "    Conv2D(filters=64, kernel_size=3, padding='same', activation='relu'),\n",
    "    MaxPooling2D(pool_size=2),\n",
    "    \n",
    "    Conv2D(filters=32, kernel_size=3, padding='same', activation='relu'),\n",
    "    MaxPooling2D(pool_size=2),\n",
    "    \n",
    "    Conv2D(filters=32, kernel_size=3, padding='same', activation='relu'),\n",
    "    MaxPooling2D(pool_size=2),\n",
    "\n",
    "    Flatten(),\n",
    "\n",
    "    Dense(64, activation='relu'),\n",
    "\n",
    "    Dense(6, activation='softmax')\n",
    "])\n",
    "\n",
    "model.compile(loss='categorical_crossentropy', optimizer='adam', metrics=['acc'])\n",
    "\n",
    "model.summary()"
   ]
  },
  {
   "cell_type": "code",
   "execution_count": null,
   "metadata": {
    "_uuid": "12808bc4eff438aff81378b627607415965c3298",
    "scrolled": true
   },
   "outputs": [],
   "source": [
    "# training and validation\n",
    "model.fit_generator(\n",
    "    train_generator,\n",
    "    validation_data = validation_generator, \n",
    "    epochs = 50)"
   ]
  },
  {
   "cell_type": "code",
   "execution_count": null,
   "metadata": {
    "_uuid": "9c79d2b94514eb4a9bb00f3031081221e1ce7f4b"
   },
   "outputs": [],
   "source": [
    "# testing\n",
    "test_x, test_y = test_generator.__getitem__(1)\n",
    "\n",
    "preds = model.predict(test_x)\n",
    "\n",
    "total = test_generator.batch_size\n",
    "plt.figure(figsize=(total, total))\n",
    "correct=0\n",
    "\n",
    "rows = math.ceil(total/4)\n",
    "\n",
    "print(\"Prediction on a single batch\\n\")\n",
    "for i in range(total):\n",
    "    plt.subplot(rows, 4, i+1)\n",
    "    plt.title('pred:%s / truth:%s' % (labels[np.argmax(preds[i])], labels[np.argmax(test_y[i])]))\n",
    "    plt.imshow(test_x[i])\n",
    "    if (labels[np.argmax(preds[i])] == labels[np.argmax(test_y[i])]):\n",
    "        correct+=1\n",
    "print(f\"{correct} prediction correct out of {total}\")\n",
    "print(f\"Accuracy : {(correct/total)*100}\")"
   ]
  }
 ],
 "metadata": {
  "kernelspec": {
   "display_name": "Python 3",
   "language": "python",
   "name": "python3"
  },
  "language_info": {
   "codemirror_mode": {
    "name": "ipython",
    "version": 3
   },
   "file_extension": ".py",
   "mimetype": "text/x-python",
   "name": "python",
   "nbconvert_exporter": "python",
   "pygments_lexer": "ipython3",
   "version": "3.7.9"
  }
 },
 "nbformat": 4,
 "nbformat_minor": 1
}
